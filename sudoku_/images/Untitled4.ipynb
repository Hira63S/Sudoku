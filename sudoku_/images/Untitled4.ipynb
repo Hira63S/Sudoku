{
 "cells": [
  {
   "cell_type": "markdown",
   "metadata": {},
   "source": [
    "# Modeling with CNN"
   ]
  },
  {
   "cell_type": "code",
   "execution_count": 17,
   "metadata": {},
   "outputs": [],
   "source": [
    "import numpy as np\n",
    "import pandas as pd\n",
    "import matplotlib.pyplot as plt\n",
    "import cv2\n",
    "import torch\n",
    "import torch.nn as nn\n",
    "import torch.nn.functional as F\n",
    "from torch.utils.data import DataLoader\n",
    "from torchvision import datasets, transforms\n",
    "from torchvision.utils import make_grid\n",
    "import cv2\n",
    "import numpy as np\n",
    "import pandas as pd\n",
    "from sklearn.metrics import confusion_matrix\n",
    "import matplotlib.pyplot as plt\n",
    "%matplotlib inline"
   ]
  },
  {
   "cell_type": "code",
   "execution_count": null,
   "metadata": {},
   "outputs": [],
   "source": [
    "train_data = datasets.MNIST(root='../Data', train=True, download=True)"
   ]
  },
  {
   "cell_type": "code",
   "execution_count": 35,
   "metadata": {},
   "outputs": [],
   "source": [
    "df1 = pd.read_csv(\"df1.csv\")"
   ]
  },
  {
   "cell_type": "code",
   "execution_count": 38,
   "metadata": {},
   "outputs": [
    {
     "data": {
      "text/html": [
       "<div>\n",
       "<style scoped>\n",
       "    .dataframe tbody tr th:only-of-type {\n",
       "        vertical-align: middle;\n",
       "    }\n",
       "\n",
       "    .dataframe tbody tr th {\n",
       "        vertical-align: top;\n",
       "    }\n",
       "\n",
       "    .dataframe thead th {\n",
       "        text-align: right;\n",
       "    }\n",
       "</style>\n",
       "<table border=\"1\" class=\"dataframe\">\n",
       "  <thead>\n",
       "    <tr style=\"text-align: right;\">\n",
       "      <th></th>\n",
       "      <th>all_images</th>\n",
       "    </tr>\n",
       "  </thead>\n",
       "  <tbody>\n",
       "    <tr>\n",
       "      <th>0</th>\n",
       "      <td>(array([[  0,   0,   0,   0,   0,   0,   0,   ...</td>\n",
       "    </tr>\n",
       "    <tr>\n",
       "      <th>1</th>\n",
       "      <td>(array([[  0,   0,   0,   0,   0,   0,   0,   ...</td>\n",
       "    </tr>\n",
       "    <tr>\n",
       "      <th>2</th>\n",
       "      <td>(array([[  0,   0,   0,   0,   0,   0,   0,   ...</td>\n",
       "    </tr>\n",
       "    <tr>\n",
       "      <th>3</th>\n",
       "      <td>(array([[  0,   0,   0,   0,   0,   0,   0,   ...</td>\n",
       "    </tr>\n",
       "    <tr>\n",
       "      <th>4</th>\n",
       "      <td>(array([[  0,   0,   0,   0,   0,   0,   0,   ...</td>\n",
       "    </tr>\n",
       "  </tbody>\n",
       "</table>\n",
       "</div>"
      ],
      "text/plain": [
       "                                          all_images\n",
       "0  (array([[  0,   0,   0,   0,   0,   0,   0,   ...\n",
       "1  (array([[  0,   0,   0,   0,   0,   0,   0,   ...\n",
       "2  (array([[  0,   0,   0,   0,   0,   0,   0,   ...\n",
       "3  (array([[  0,   0,   0,   0,   0,   0,   0,   ...\n",
       "4  (array([[  0,   0,   0,   0,   0,   0,   0,   ..."
      ]
     },
     "execution_count": 38,
     "metadata": {},
     "output_type": "execute_result"
    }
   ],
   "source": [
    "df1.head()"
   ]
  },
  {
   "cell_type": "code",
   "execution_count": 43,
   "metadata": {},
   "outputs": [
    {
     "ename": "AttributeError",
     "evalue": "'str' object has no attribute 'to_numpy'",
     "output_type": "error",
     "traceback": [
      "\u001b[1;31m---------------------------------------------------------------------------\u001b[0m",
      "\u001b[1;31mAttributeError\u001b[0m                            Traceback (most recent call last)",
      "\u001b[1;32m<ipython-input-43-9f14fdf8f987>\u001b[0m in \u001b[0;36m<module>\u001b[1;34m\u001b[0m\n\u001b[1;32m----> 1\u001b[1;33m \u001b[1;33m(\u001b[0m\u001b[0mdf1\u001b[0m\u001b[1;33m[\u001b[0m\u001b[1;34m'all_images'\u001b[0m\u001b[1;33m]\u001b[0m\u001b[1;33m[\u001b[0m\u001b[1;36m0\u001b[0m\u001b[1;33m]\u001b[0m\u001b[1;33m)\u001b[0m\u001b[1;33m.\u001b[0m\u001b[0mto_numpy\u001b[0m\u001b[1;33m(\u001b[0m\u001b[1;33m)\u001b[0m\u001b[1;33m\u001b[0m\u001b[1;33m\u001b[0m\u001b[0m\n\u001b[0m",
      "\u001b[1;31mAttributeError\u001b[0m: 'str' object has no attribute 'to_numpy'"
     ]
    }
   ],
   "source": [
    "(df1['all_images'][0]).to_numpy()"
   ]
  },
  {
   "cell_type": "code",
   "execution_count": 26,
   "metadata": {},
   "outputs": [],
   "source": [
    "transform = transforms.ToTensor()"
   ]
  },
  {
   "cell_type": "code",
   "execution_count": null,
   "metadata": {},
   "outputs": [],
   "source": [
    "np.savetxt('images.csv', [copy_img1_1], delimiter=',', fmt='%d')"
   ]
  },
  {
   "cell_type": "code",
   "execution_count": 28,
   "metadata": {},
   "outputs": [
    {
     "ename": "TypeError",
     "evalue": "pic should be PIL Image or ndarray. Got <class 'pandas.core.series.Series'>",
     "output_type": "error",
     "traceback": [
      "\u001b[1;31m---------------------------------------------------------------------------\u001b[0m",
      "\u001b[1;31mTypeError\u001b[0m                                 Traceback (most recent call last)",
      "\u001b[1;32m<ipython-input-28-4a3ce362bd52>\u001b[0m in \u001b[0;36m<module>\u001b[1;34m\u001b[0m\n\u001b[1;32m----> 1\u001b[1;33m \u001b[0mdf1\u001b[0m\u001b[1;33m[\u001b[0m\u001b[1;34m'images'\u001b[0m\u001b[1;33m]\u001b[0m \u001b[1;33m=\u001b[0m \u001b[0mtransform\u001b[0m\u001b[1;33m(\u001b[0m\u001b[0mdf1\u001b[0m\u001b[1;33m[\u001b[0m\u001b[1;34m'images'\u001b[0m\u001b[1;33m]\u001b[0m\u001b[1;33m)\u001b[0m\u001b[1;33m\u001b[0m\u001b[1;33m\u001b[0m\u001b[0m\n\u001b[0m",
      "\u001b[1;32m~\\Anaconda3\\lib\\site-packages\\torchvision\\transforms\\transforms.py\u001b[0m in \u001b[0;36m__call__\u001b[1;34m(self, pic)\u001b[0m\n\u001b[0;32m     90\u001b[0m             \u001b[0mTensor\u001b[0m\u001b[1;33m:\u001b[0m \u001b[0mConverted\u001b[0m \u001b[0mimage\u001b[0m\u001b[1;33m.\u001b[0m\u001b[1;33m\u001b[0m\u001b[1;33m\u001b[0m\u001b[0m\n\u001b[0;32m     91\u001b[0m         \"\"\"\n\u001b[1;32m---> 92\u001b[1;33m         \u001b[1;32mreturn\u001b[0m \u001b[0mF\u001b[0m\u001b[1;33m.\u001b[0m\u001b[0mto_tensor\u001b[0m\u001b[1;33m(\u001b[0m\u001b[0mpic\u001b[0m\u001b[1;33m)\u001b[0m\u001b[1;33m\u001b[0m\u001b[1;33m\u001b[0m\u001b[0m\n\u001b[0m\u001b[0;32m     93\u001b[0m \u001b[1;33m\u001b[0m\u001b[0m\n\u001b[0;32m     94\u001b[0m     \u001b[1;32mdef\u001b[0m \u001b[0m__repr__\u001b[0m\u001b[1;33m(\u001b[0m\u001b[0mself\u001b[0m\u001b[1;33m)\u001b[0m\u001b[1;33m:\u001b[0m\u001b[1;33m\u001b[0m\u001b[1;33m\u001b[0m\u001b[0m\n",
      "\u001b[1;32m~\\Anaconda3\\lib\\site-packages\\torchvision\\transforms\\functional.py\u001b[0m in \u001b[0;36mto_tensor\u001b[1;34m(pic)\u001b[0m\n\u001b[0;32m     48\u001b[0m     \"\"\"\n\u001b[0;32m     49\u001b[0m     \u001b[1;32mif\u001b[0m \u001b[1;32mnot\u001b[0m\u001b[1;33m(\u001b[0m\u001b[0m_is_pil_image\u001b[0m\u001b[1;33m(\u001b[0m\u001b[0mpic\u001b[0m\u001b[1;33m)\u001b[0m \u001b[1;32mor\u001b[0m \u001b[0m_is_numpy_image\u001b[0m\u001b[1;33m(\u001b[0m\u001b[0mpic\u001b[0m\u001b[1;33m)\u001b[0m\u001b[1;33m)\u001b[0m\u001b[1;33m:\u001b[0m\u001b[1;33m\u001b[0m\u001b[1;33m\u001b[0m\u001b[0m\n\u001b[1;32m---> 50\u001b[1;33m         \u001b[1;32mraise\u001b[0m \u001b[0mTypeError\u001b[0m\u001b[1;33m(\u001b[0m\u001b[1;34m'pic should be PIL Image or ndarray. Got {}'\u001b[0m\u001b[1;33m.\u001b[0m\u001b[0mformat\u001b[0m\u001b[1;33m(\u001b[0m\u001b[0mtype\u001b[0m\u001b[1;33m(\u001b[0m\u001b[0mpic\u001b[0m\u001b[1;33m)\u001b[0m\u001b[1;33m)\u001b[0m\u001b[1;33m)\u001b[0m\u001b[1;33m\u001b[0m\u001b[1;33m\u001b[0m\u001b[0m\n\u001b[0m\u001b[0;32m     51\u001b[0m \u001b[1;33m\u001b[0m\u001b[0m\n\u001b[0;32m     52\u001b[0m     \u001b[1;32mif\u001b[0m \u001b[0misinstance\u001b[0m\u001b[1;33m(\u001b[0m\u001b[0mpic\u001b[0m\u001b[1;33m,\u001b[0m \u001b[0mnp\u001b[0m\u001b[1;33m.\u001b[0m\u001b[0mndarray\u001b[0m\u001b[1;33m)\u001b[0m\u001b[1;33m:\u001b[0m\u001b[1;33m\u001b[0m\u001b[1;33m\u001b[0m\u001b[0m\n",
      "\u001b[1;31mTypeError\u001b[0m: pic should be PIL Image or ndarray. Got <class 'pandas.core.series.Series'>"
     ]
    }
   ],
   "source": [
    "df1['images'] = transform(df1['images'])"
   ]
  },
  {
   "cell_type": "code",
   "execution_count": 15,
   "metadata": {},
   "outputs": [
    {
     "data": {
      "text/plain": [
       "'array([[ 16,  16,  16,  16,  16,  16,  16,  16,  16,  16,  16,  16,  16,\\n         16,  16,  16,  16,  16,  16,  16,  16,  16,  16,  16,  16,  16,\\n         16, 130],\\n       [ 16,  16,  16,  16,  16,  16,  16,  16,  16,  16,  16,  16,  16,\\n         16,  16,  16,  16,  16,  16,  16,  16,  16,  16,  16,  16,  16,\\n         16, 130],\\n       [ 16,  16,  16,  16,  16,  16,  16,  16,  16,  16,  16,  16,  16,\\n         16,  16,  16,  16,  16,  16,  16,  16,  16,  16,  16,  16,  16,\\n         16, 130],\\n       [ 16,  16,  16,  16,  16,  16,  16,  16,  16,  16,  16,  16,  16,\\n         16,  16,  16,  16,  16,  16,  16,  16,  16,  16,  16,  16,  16,\\n         16, 130],\\n       [ 16,  16,  16,  16,  16,  16,  16,  16,  16,  30, 125, 125, 125,\\n        125, 125, 125, 125, 125,  82,  16,  16,  16,  16,  16,  16,  16,\\n         16, 130],\\n       [ 16,  16,  16,  16,  16,  16,  16,  16,  16,  50, 255, 255, 255,\\n        255, 255, 255, 255, 255, 161,  16,  16,  16,  16,  16,  16,  16,\\n         16, 130],\\n       [ 16,  16,  16,  16,  16,  16,  16,  16,  16,  80, 255, 255, 255,\\n        255, 255, 255, 255, 255, 161,  16,  16,  16,  16,  16,  16,  16,\\n         16, 130],\\n       [ 16,  16,  16,  16,  16,  16,  16,  16,  16,  98, 250, 136, 122,\\n        122, 122, 122, 122, 122,  80,  16,  16,  16,  16,  16,  16,  16,\\n         16, 130],\\n       [ 16,  16,  16,  16,  16,  16,  16,  16,  16, 119, 242,  36,  16,\\n         16,  16,  16,  16,  16,  16,  16,  16,  16,  16,  16,  16,  16,\\n         16, 130],\\n       [ 16,  16,  16,  16,  16,  16,  16,  16,  16, 145, 237,  31,  16,\\n         16,  16,  16,  16,  16,  16,  16,  16,  16,  16,  16,  16,  16,\\n         16, 130],\\n       [ 16,  16,  16,  16,  16,  16,  16,  16,  16, 158, 240, 143, 167,\\n        167, 154,  97,  36,  16,  16,  16,  16,  16,  16,  16,  16,  16,\\n         16, 130],\\n       [ 16,  16,  16,  16,  16,  16,  16,  16,  16, 177, 255, 255, 242,\\n        254, 255, 254, 224,  90,  17,  16,  16,  16,  16,  16,  16,  16,\\n         16, 130],\\n       [ 16,  16,  16,  16,  16,  16,  16,  16,  16,  40,  75,  46,  41,\\n         67, 183, 255, 255, 246,  79,  16,  16,  16,  16,  16,  16,  16,\\n         16, 130],\\n       [ 16,  16,  16,  16,  16,  16,  16,  16,  16,  16,  16,  16,  16,\\n         16,  30, 223, 255, 255, 208,  16,  16,  16,  16,  16,  16,  16,\\n         16, 130],\\n       [ 16,  16,  16,  16,  16,  16,  16,  16,  16,  16,  16,  16,  16,\\n         16,  16, 143, 255, 255, 238,  16,  16,  16,  16,  16,  16,  16,\\n         16, 130],\\n       [ 16,  16,  16,  16,  16,  16,  16,  16,  43,  77,  26,  16,  16,\\n         16,  16, 124, 255, 255, 249,  16,  16,  16,  16,  16,  16,  16,\\n         16, 130],\\n       [ 16,  16,  16,  16,  16,  16,  16,  31, 222, 254, 157,  17,  16,\\n         16,  16, 142, 255, 255, 233,  16,  16,  16,  16,  16,  16,  16,\\n         16, 130],\\n       [ 16,  16,  16,  16,  16,  16,  16,  41, 252, 255, 235,  30,  16,\\n         16,  22, 205, 255, 255, 187,  16,  16,  16,  16,  16,  16,  16,\\n         16, 130],\\n       [ 16,  16,  16,  16,  16,  16,  16,  22, 182, 255, 248,  42,  16,\\n         18, 109, 253, 255, 244,  53,  16,  16,  16,  16,  16,  16,  16,\\n         16, 130],\\n       [ 16,  16,  16,  16,  16,  16,  16,  16,  41, 188, 250, 199, 159,\\n        193, 249, 251, 211,  67,  17,  16,  16,  16,  16,  16,  16,  16,\\n         16, 130],\\n       [ 16,  16,  16,  16,  16,  16,  16,  16,  16,  23,  76, 149, 172,\\n        171, 146,  86,  25,  16,  16,  16,  16,  16,  16,  16,  16,  16,\\n         16, 130],\\n       [ 16,  16,  16,  16,  16,  16,  16,  16,  16,  16,  16,  16,  16,\\n         16,  16,  16,  16,  16,  16,  16,  16,  16,  16,  16,  16,  16,\\n         16, 130],\\n       [ 16,  16,  16,  16,  16,  16,  16,  16,  16,  16,  16,  16,  16,\\n         16,  16,  16,  16,  16,  16,  16,  16,  16,  16,  16,  16,  16,\\n         16, 130],\\n       [ 16,  16,  16,  16,  16,  16,  16,  16,  16,  16,  16,  16,  16,\\n         16,  16,  16,  16,  16,  16,  16,  16,  16,  16,  16,  16,  16,\\n         16, 130],\\n       [ 16,  16,  16,  16,  16,  16,  16,  16,  16,  16,  16,  16,  16,\\n         16,  16,  16,  16,  16,  16,  16,  16,  16,  16,  16,  16,  16,\\n         16, 130],\\n       [ 16,  16,  16,  16,  16,  16,  16,  16,  16,  16,  16,  16,  16,\\n         16,  16,  16,  16,  16,  16,  16,  16,  16,  16,  16,  16,  16,\\n         16, 130],\\n       [ 16,  16,  16,  16,  16,  16,  16,  16,  16,  16,  16,  16,  16,\\n         16,  16,  16,  16,  16,  16,  16,  16,  16,  16,  16,  16,  16,\\n         16, 130],\\n       [ 36,  36,  36,  36,  36,  36,  36,  36,  36,  36,  36,  36,  36,\\n         36,  36,  36,  36,  36,  36,  36,  36,  36,  36,  36,  36,  36,\\n         36, 133]], dtype=uint8), 5)'"
      ]
     },
     "execution_count": 15,
     "metadata": {},
     "output_type": "execute_result"
    }
   ],
   "source": [
    "df1['all_images'][200][1:]\n"
   ]
  },
  {
   "cell_type": "code",
   "execution_count": null,
   "metadata": {},
   "outputs": [],
   "source": []
  }
 ],
 "metadata": {
  "kernelspec": {
   "display_name": "Python 3",
   "language": "python",
   "name": "python3"
  },
  "language_info": {
   "codemirror_mode": {
    "name": "ipython",
    "version": 3
   },
   "file_extension": ".py",
   "mimetype": "text/x-python",
   "name": "python",
   "nbconvert_exporter": "python",
   "pygments_lexer": "ipython3",
   "version": "3.7.3"
  }
 },
 "nbformat": 4,
 "nbformat_minor": 2
}
